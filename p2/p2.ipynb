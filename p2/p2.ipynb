{
 "cells": [
  {
   "cell_type": "code",
   "execution_count": 3,
   "metadata": {},
   "outputs": [],
   "source": [
    "def intcode(code):\n",
    "    \"\"\"\n",
    "    Execute the instructions given in the input code. \n",
    "    Output the resulting state.\n",
    "    \"\"\"\n",
    "    pos = 0\n",
    "    while True:\n",
    "        if code[pos] == 99: # terminate\n",
    "            break\n",
    "        else:\n",
    "            codeblock = code[pos:pos+4]\n",
    "            if codeblock[0] == 1: # add\n",
    "                code[codeblock[-1]] = code[codeblock[1]] + code[codeblock[2]]\n",
    "            if codeblock[0] == 2: # multiply\n",
    "                code[codeblock[-1]] = code[codeblock[1]]*code[codeblock[2]]\n",
    "        pos += 4\n",
    "    return code"
   ]
  },
  {
   "cell_type": "code",
   "execution_count": 8,
   "metadata": {},
   "outputs": [
    {
     "name": "stdout",
     "output_type": "stream",
     "text": [
      "3716250\n"
     ]
    }
   ],
   "source": [
    "# part 1\n",
    "with open(\"p2_input.txt\",\"r\") as f:\n",
    "    incode = [int(c) for c in f.readline().split(\",\")]\n",
    "incode[1] = 12\n",
    "incode[2] = 2\n",
    "print(intcode(incode)[0])"
   ]
  },
  {
   "cell_type": "code",
   "execution_count": null,
   "metadata": {},
   "outputs": [],
   "source": []
  }
 ],
 "metadata": {
  "kernelspec": {
   "display_name": "Python 3",
   "language": "python",
   "name": "python3"
  },
  "language_info": {
   "codemirror_mode": {
    "name": "ipython",
    "version": 3
   },
   "file_extension": ".py",
   "mimetype": "text/x-python",
   "name": "python",
   "nbconvert_exporter": "python",
   "pygments_lexer": "ipython3",
   "version": "3.6.8"
  }
 },
 "nbformat": 4,
 "nbformat_minor": 2
}
