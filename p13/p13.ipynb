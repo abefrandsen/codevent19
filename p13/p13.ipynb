{
 "cells": [
  {
   "cell_type": "code",
   "execution_count": 1,
   "metadata": {},
   "outputs": [],
   "source": [
    "from collections import defaultdict\n",
    "import numpy as np\n",
    "from matplotlib import pyplot as plt\n",
    "class program():\n",
    "    def __init__(self, code):\n",
    "        self.pos = 0 # position pointer\n",
    "        self.code = defaultdict(lambda:0)\n",
    "        for i,v in enumerate(code):\n",
    "            self.code[i] = v\n",
    "        self.rel = 0 # offset value for relative mode\n",
    "        self.inputs = []\n",
    "        \n",
    "    def add_inputs(self,inputs):\n",
    "        for i in inputs:\n",
    "            self.inputs.insert(0,i)\n",
    "    \n",
    "    def run(self):\n",
    "        exit_code = 0\n",
    "        outputs = []\n",
    "        while exit_code == 0:\n",
    "            exit_code, output = self._step()\n",
    "            if output is not None:\n",
    "                outputs.append(output)\n",
    "        return exit_code, outputs\n",
    "    \n",
    "    def _parse_opcode(self, opcode):\n",
    "        \"\"\"\n",
    "        Parse an opcode, getting the parameter modes and instruction.\n",
    "        Opcode should be input as integer.\n",
    "        \"\"\"\n",
    "        code = str(opcode)\n",
    "        l = len(code)\n",
    "        inst = int(code[-2:])\n",
    "        modes = []\n",
    "        for i in range(l-2):\n",
    "            modes.append(int(code[l-3-i]))\n",
    "        return inst, modes\n",
    "    \n",
    "    def _get_val_idx(self,loc,mode):\n",
    "        if mode==0: # position mode\n",
    "            return self.code[loc]\n",
    "        elif mode==1: # immediate mode\n",
    "            return loc\n",
    "        elif mode==2: # relative mode\n",
    "            return self.rel+self.code[loc]\n",
    "        \n",
    "    def _step(self):\n",
    "        \"\"\"\n",
    "        Exit codes: \n",
    "           0 : continue execution\n",
    "           1 : program finished\n",
    "           2 : waiting for input\n",
    "        \"\"\"\n",
    "        output = None\n",
    "        exit_code = 0\n",
    "        pos = self.pos # where are we in the code\n",
    "\n",
    "        inst, modes = self._parse_opcode(code[pos])\n",
    "        if inst == 99: # terminate\n",
    "            exit_code = 1\n",
    "            \n",
    "        if inst == 1: # add\n",
    "            modes = modes+(3-len(modes))*[0]\n",
    "            v1 = self.code[self._get_val_idx(pos+1,modes[0])]\n",
    "            v2 = self.code[self._get_val_idx(pos+2,modes[1])]\n",
    "            self.code[self._get_val_idx(pos+3,modes[2])] = v1+v2 \n",
    "            pos += 4\n",
    "            \n",
    "        if inst == 2: # multiply\n",
    "            modes = modes+(3-len(modes))*[0]\n",
    "            v1 = self.code[self._get_val_idx(pos+1,modes[0])]\n",
    "            v2 = self.code[self._get_val_idx(pos+2,modes[1])]\n",
    "            self.code[self._get_val_idx(pos+3,modes[2])] = v1*v2 \n",
    "            pos += 4\n",
    "            \n",
    "        if inst == 3: # store input\n",
    "            try:\n",
    "                modes = modes + (1-len(modes))*[0]\n",
    "                self.code[self._get_val_idx(pos+1,modes[0])] = self.inputs.pop()\n",
    "                pos += 2\n",
    "            except IndexError: # must wait for additional input\n",
    "                exit_code = 2\n",
    "                \n",
    "        if inst == 4: # output value\n",
    "            modes = modes+(1-len(modes))*[0]\n",
    "            v = self.code[self._get_val_idx(pos+1,modes[0])]\n",
    "            output = v\n",
    "            pos += 2\n",
    "            \n",
    "        if inst == 5: # jump-if-true\n",
    "            modes = modes+(2-len(modes))*[0]\n",
    "            v1 = self.code[self._get_val_idx(pos+1,modes[0])]\n",
    "            v2 = self.code[self._get_val_idx(pos+2,modes[1])]\n",
    "            if v1 > 0:\n",
    "                pos = v2\n",
    "            else:\n",
    "                pos += 3\n",
    "                \n",
    "        if inst == 6: # jump-if-false\n",
    "            modes = modes+(2-len(modes))*[0]\n",
    "            v1 = self.code[self._get_val_idx(pos+1,modes[0])]\n",
    "            v2 = self.code[self._get_val_idx(pos+2,modes[1])]\n",
    "            if v1 == 0:\n",
    "                pos = v2\n",
    "            else:\n",
    "                pos += 3\n",
    "                \n",
    "        if inst == 7:\n",
    "            modes = modes+(3-len(modes))*[0]\n",
    "            v1 = self.code[self._get_val_idx(pos+1,modes[0])]\n",
    "            v2 = self.code[self._get_val_idx(pos+2,modes[1])]\n",
    "            if v1 < v2:\n",
    "                self.code[self._get_val_idx(pos+3,modes[2])] = 1\n",
    "            else:\n",
    "                self.code[self._get_val_idx(pos+3,modes[2])] = 0\n",
    "            pos += 4\n",
    "            \n",
    "        if inst == 8:\n",
    "            modes = modes+(3-len(modes))*[0]\n",
    "            v1 = self.code[self._get_val_idx(pos+1,modes[0])]\n",
    "            v2 = self.code[self._get_val_idx(pos+2,modes[1])]\n",
    "            if v1 == v2:\n",
    "                self.code[self._get_val_idx(pos+3,modes[2])] = 1\n",
    "            else:\n",
    "                self.code[self._get_val_idx(pos+3,modes[2])] = 0\n",
    "            pos += 4\n",
    "            \n",
    "        if inst == 9: # adjust rel\n",
    "            modes = modes+(1-len(modes))*[0]\n",
    "            v1 = self.code[self._get_val_idx(pos+1,modes[0])]\n",
    "            self.rel += v1\n",
    "            pos += 2\n",
    "        self.pos = pos\n",
    "        return exit_code, output"
   ]
  },
  {
   "cell_type": "code",
   "execution_count": 37,
   "metadata": {},
   "outputs": [
    {
     "name": "stdout",
     "output_type": "stream",
     "text": [
      "432\n"
     ]
    }
   ],
   "source": [
    "class arcade_cabinet():\n",
    "    def __init__(self,code):\n",
    "        self.prog = program(code)\n",
    "        self.board = np.zeros((26,40),dtype=np.int)\n",
    "        self.tiles = []\n",
    "        self.joystick = 0\n",
    "        self.score = 0\n",
    "        self.render_symbols = [\"  \",\"==\",\"[]\",\"--\",\"()\"]\n",
    "        self.moves = defaultdict(lambda:0,{\"a\":-1,\"s\":0,\"d\":1,\"j\":-1,\"k\":0,\"l\":-1})\n",
    "        \n",
    "    def render_board(self):\n",
    "        \"\"\"\n",
    "        Create a string rendering of the game board.\n",
    "        \"\"\"\n",
    "        board_string = \"\"\n",
    "        for i in range(self.board.shape[0]):\n",
    "            for j in range(self.board.shape[1]):\n",
    "                board_string += self.render_symbols[self.board[i,j]]\n",
    "            board_string += \"\\n\"\n",
    "        return board_string+\"\\nCurrent Score: {}\".format(self.score)\n",
    "    \n",
    "    def run_program(self,render=False):\n",
    "        while True:\n",
    "            outputs = []\n",
    "            while len(outputs) < 3:\n",
    "                exit_code, output = self.prog._step()\n",
    "                if exit_code == 1: # program halts\n",
    "                    return\n",
    "                if exit_code == 2: # needs input\n",
    "                    move = input()\n",
    "                    self.prog.add_inputs([self.moves[move]])\n",
    "                if output is not None:\n",
    "                    outputs.append(output)\n",
    "            self.tiles.append(outputs)\n",
    "            if outputs[0] == -1:\n",
    "                self.score = outputs[2]\n",
    "            else:\n",
    "                self.board[outputs[1],outputs[0]] = outputs[2]\n",
    "            if render:\n",
    "                print(self.render_board())\n",
    "            \n",
    "            \n",
    "with open(\"p13_input.txt\",\"r\") as f:\n",
    "    code = [int(c) for c in f.readline().strip().split(\",\")]\n",
    "arcade = arcade_cabinet(code)\n",
    "arcade.run_program()\n",
    "print(len([c for c in arcade.tiles if c[-1]==2]))"
   ]
  },
  {
   "cell_type": "code",
   "execution_count": 34,
   "metadata": {},
   "outputs": [
    {
     "name": "stdout",
     "output_type": "stream",
     "text": [
      "================================================================================\n",
      "==                                                                            ==\n",
      "==  [][][][][]    []    [][][]    [][][]  [][]  [][][][]  [][]  [][]    [][]  ==\n",
      "==  [][][][]  []  []    []      [][][]  [][][]      []    []  [][][][][][][]  ==\n",
      "==      [][][]  [][][][][][][][][][]      [][]  []  [][][][][]    [][]  [][]  ==\n",
      "==    [][][]    [][]    [][][][][][]  [][][]  [][]  [][][]  []  [][]    [][]  ==\n",
      "==  [][]  []  [][][]  [][]  [][][][]  [][][][][]  []  [][][][][][]  []  [][]  ==\n",
      "==  [][][][]    [][]  [][][][][][][][][][][]  [][][][][][][][][]  []    []    ==\n",
      "==  [][][][][][]  [][][]  [][][][]    [][][]    [][][][][][]  [][][][][][][]  ==\n",
      "==  []  []  [][]    [][]  [][][]    [][]  [][][][]        [][]  []  []  [][]  ==\n",
      "==  []  []  [][][]  [][]  [][][]      []  [][][]  [][][]  []    [][][]    []  ==\n",
      "==    [][]  []    []  [][]  [][][][][][][][][]  [][]    [][]  []      [][]    ==\n",
      "==  [][]  [][]  [][][][][][]  []    []    [][]    []    [][]            [][]  ==\n",
      "==  [][]  [][][][][][]  [][]  [][]    [][]  [][][][]  [][][]  [][][][][]  []  ==\n",
      "==    [][][][][][]    [][][][][][][]  [][]  [][]  [][][][][]        [][]  []  ==\n",
      "==    []  []  [][][]  [][][][][]  []  [][]    [][][][][]      []  []  []      ==\n",
      "==  [][]  []  [][][][]  []  [][]    [][]    [][][]  []  [][]  [][][][]  []    ==\n",
      "==    [][]  [][][][][]    [][][][][]      [][][]  [][][][]        [][][][]    ==\n",
      "==  [][]    []  [][][]  [][]  [][][][][]  [][][][][]  [][][]  [][][]  [][][]  ==\n",
      "==  [][][][]      []    [][][][][][]    []  [][][][]  [][]    []  []  [][][]  ==\n",
      "==                                                                            ==\n",
      "==                                  ()                                        ==\n",
      "==                                                                            ==\n",
      "==                                                                            ==\n",
      "==                                      --                                    ==\n",
      "==                                                                            ==\n",
      "\n",
      "Current Score: 0\n"
     ]
    }
   ],
   "source": [
    "print(arcade.render_board())"
   ]
  },
  {
   "cell_type": "code",
   "execution_count": 18,
   "metadata": {},
   "outputs": [],
   "source": [
    "with open(\"p13_input.txt\",\"r\") as f:\n",
    "    code = [int(c) for c in f.readline().strip().split(\",\")]\n",
    "code[0] = 2 # play for free\n",
    "arcade = arcade_cabinet(code)"
   ]
  },
  {
   "cell_type": "code",
   "execution_count": 28,
   "metadata": {},
   "outputs": [
    {
     "data": {
      "text/plain": [
       "25"
      ]
     },
     "execution_count": 28,
     "metadata": {},
     "output_type": "execute_result"
    }
   ],
   "source": [
    "max([v[1] for v in arcade.tiles])"
   ]
  },
  {
   "cell_type": "code",
   "execution_count": 36,
   "metadata": {},
   "outputs": [
    {
     "data": {
      "text/plain": [
       "1"
      ]
     },
     "execution_count": 36,
     "metadata": {},
     "output_type": "execute_result"
    }
   ],
   "source": [
    "defaultdict(lambda:0,{\"a\":1})[\"a\"]"
   ]
  },
  {
   "cell_type": "code",
   "execution_count": 2,
   "metadata": {},
   "outputs": [],
   "source": [
    "import pickle"
   ]
  },
  {
   "cell_type": "code",
   "execution_count": 4,
   "metadata": {},
   "outputs": [
    {
     "data": {
      "text/plain": [
       "['']"
      ]
     },
     "execution_count": 4,
     "metadata": {},
     "output_type": "execute_result"
    }
   ],
   "source": [
    "\"\\n\".strip().split(\",\")"
   ]
  },
  {
   "cell_type": "code",
   "execution_count": null,
   "metadata": {},
   "outputs": [],
   "source": [
    "\n",
    "\n"
   ]
  }
 ],
 "metadata": {
  "kernelspec": {
   "display_name": "Python 3",
   "language": "python",
   "name": "python3"
  },
  "language_info": {
   "codemirror_mode": {
    "name": "ipython",
    "version": 3
   },
   "file_extension": ".py",
   "mimetype": "text/x-python",
   "name": "python",
   "nbconvert_exporter": "python",
   "pygments_lexer": "ipython3",
   "version": "3.6.8"
  }
 },
 "nbformat": 4,
 "nbformat_minor": 2
}
