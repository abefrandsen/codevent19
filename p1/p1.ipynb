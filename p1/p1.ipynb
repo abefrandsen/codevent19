{
 "cells": [
  {
   "cell_type": "code",
   "execution_count": 3,
   "metadata": {},
   "outputs": [],
   "source": [
    "import numpy as np"
   ]
  },
  {
   "cell_type": "code",
   "execution_count": 4,
   "metadata": {},
   "outputs": [],
   "source": [
    "def get_fuel(mass):\n",
    "    \"\"\"\n",
    "    Divide mass by 3, round down, subtract 2.\n",
    "    \n",
    "    i.e. get_fuel(14)=2\n",
    "    \"\"\"\n",
    "    return np.maximum(np.floor(mass/3)-2,0)"
   ]
  },
  {
   "cell_type": "code",
   "execution_count": 5,
   "metadata": {},
   "outputs": [
    {
     "name": "stdout",
     "output_type": "stream",
     "text": [
      "3334297\n"
     ]
    }
   ],
   "source": [
    "# part 1\n",
    "masses = np.loadtxt(\"p1_input.txt\")\n",
    "fuels = get_fuel(masses)\n",
    "print(int(fuels.sum()))"
   ]
  },
  {
   "cell_type": "code",
   "execution_count": 6,
   "metadata": {},
   "outputs": [
    {
     "name": "stdout",
     "output_type": "stream",
     "text": [
      "4998565\n"
     ]
    }
   ],
   "source": [
    "# part 2\n",
    "masses = np.loadtxt(\"p1_input.txt\")\n",
    "fuels = get_fuel(masses)\n",
    "tot_fuels = np.zeros(fuels.shape)\n",
    "while fuels.sum()>0:\n",
    "    tot_fuels += fuels\n",
    "    fuels = get_fuel(fuels)\n",
    "print(int(tot_fuels.sum()))"
   ]
  }
 ],
 "metadata": {
  "kernelspec": {
   "display_name": "Python 3",
   "language": "python",
   "name": "python3"
  },
  "language_info": {
   "codemirror_mode": {
    "name": "ipython",
    "version": 3
   },
   "file_extension": ".py",
   "mimetype": "text/x-python",
   "name": "python",
   "nbconvert_exporter": "python",
   "pygments_lexer": "ipython3",
   "version": "3.6.8"
  }
 },
 "nbformat": 4,
 "nbformat_minor": 2
}
