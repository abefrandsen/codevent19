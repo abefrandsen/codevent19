{
 "cells": [
  {
   "cell_type": "code",
   "execution_count": 18,
   "metadata": {},
   "outputs": [
    {
     "name": "stdout",
     "output_type": "stream",
     "text": [
      "Part 1 answer: 254447\n"
     ]
    }
   ],
   "source": [
    "# part 1\n",
    "orbit_tree = {}\n",
    "with open(\"p6_input.txt\", \"r\") as f:\n",
    "    for line in f:\n",
    "        X, Y = (line.strip()).split(\")\")\n",
    "        orbit_tree[Y] = X\n",
    "tot = 0\n",
    "for X in orbit_tree.keys():\n",
    "    tot += 1\n",
    "    obj = X\n",
    "    C = orbit_tree[obj]\n",
    "    while C != \"COM\":\n",
    "        obj = C\n",
    "        C = orbit_tree[obj]\n",
    "        tot += 1\n",
    "print(\"Part 1 answer: {}\".format(tot))"
   ]
  },
  {
   "cell_type": "code",
   "execution_count": 25,
   "metadata": {},
   "outputs": [
    {
     "name": "stdout",
     "output_type": "stream",
     "text": [
      "Part 2 answer: 445\n"
     ]
    }
   ],
   "source": [
    "# part 2\n",
    "\n",
    "# get path through graph from YOU to COM (root)\n",
    "you_path = []\n",
    "obj = \"YOU\"\n",
    "C = orbit_tree[obj]\n",
    "you_path.append(C)\n",
    "while C != \"COM\":\n",
    "    obj = C\n",
    "    C = orbit_tree[obj]\n",
    "    you_path.append(C)\n",
    "\n",
    "# get path through graph from SAN to COM\n",
    "san_path = []\n",
    "obj = \"SAN\"\n",
    "C = orbit_tree[obj]\n",
    "san_path.append(C)\n",
    "while C != \"COM\":\n",
    "    obj = C\n",
    "    C = orbit_tree[obj]\n",
    "    san_path.append(C)\n",
    "\n",
    "# find length of common suffix\n",
    "for i in range(min(len(you_path), len(san_path))):\n",
    "    if you_path[-(i+1)] != san_path[-(i+1)]:\n",
    "        break\n",
    "suffix_length = i\n",
    "\n",
    "print(\"Part 2 answer: {}\".format(len(you_path) + len(san_path) - 2*suffix_length))"
   ]
  }
 ],
 "metadata": {
  "kernelspec": {
   "display_name": "Python 3",
   "language": "python",
   "name": "python3"
  },
  "language_info": {
   "codemirror_mode": {
    "name": "ipython",
    "version": 3
   },
   "file_extension": ".py",
   "mimetype": "text/x-python",
   "name": "python",
   "nbconvert_exporter": "python",
   "pygments_lexer": "ipython3",
   "version": "3.6.8"
  }
 },
 "nbformat": 4,
 "nbformat_minor": 2
}
