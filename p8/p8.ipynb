{
 "cells": [
  {
   "cell_type": "code",
   "execution_count": 40,
   "metadata": {},
   "outputs": [],
   "source": [
    "import numpy as np\n",
    "from matplotlib import pyplot as plt"
   ]
  },
  {
   "cell_type": "code",
   "execution_count": 2,
   "metadata": {},
   "outputs": [],
   "source": [
    "def process_image(digit_stream,h,w):\n",
    "    n_layers = int(len(digit_stream)/(h*w))\n",
    "    pic_array = np.array(digit_stream).reshape((n_layers,h,w))\n",
    "    return pic_array"
   ]
  },
  {
   "cell_type": "code",
   "execution_count": 47,
   "metadata": {},
   "outputs": [
    {
     "name": "stdout",
     "output_type": "stream",
     "text": [
      "Answer to Part 1: 1463\n",
      "Part 2 Image\n"
     ]
    },
    {
     "data": {
      "image/png": "[encoded data removed]",
      "text/plain": [
       "<Figure size 432x288 with 1 Axes>"
      ]
     },
     "metadata": {
      "needs_background": "light"
     },
     "output_type": "display_data"
    }
   ],
   "source": [
    "with open(\"p8_input.txt\",\"r\") as f:\n",
    "    digit_stream = [int(c) for c in f.readline().strip()]\n",
    "    \n",
    "pic_arr = process_image(digit_stream,6,25)\n",
    "min_layer = pic_arr[(pic_arr==0).sum(axis=(1,2)).argmin()]\n",
    "print(\"Answer to Part 1: {}\".format((min_layer==1).sum()*(min_layer==2).sum()))\n",
    "\n",
    "print(\"Part 2 Image\")\n",
    "plt.imshow(pic_arr[(pic_arr==2).astype(int).argmin(axis=0),\n",
    "        np.tile(np.arange(6),25).reshape((6,25),order=\"F\"),\n",
    "        np.tile(np.arange(25),6).reshape((6,25))])\n",
    "plt.show()"
   ]
  }
 ],
 "metadata": {
  "kernelspec": {
   "display_name": "Python 3",
   "language": "python",
   "name": "python3"
  },
  "language_info": {
   "codemirror_mode": {
    "name": "ipython",
    "version": 3
   },
   "file_extension": ".py",
   "mimetype": "text/x-python",
   "name": "python",
   "nbconvert_exporter": "python",
   "pygments_lexer": "ipython3",
   "version": "3.6.8"
  }
 },
 "nbformat": 4,
 "nbformat_minor": 2
}
