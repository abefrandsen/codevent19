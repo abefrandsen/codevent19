{
 "cells": [
  {
   "cell_type": "code",
   "execution_count": 1,
   "metadata": {},
   "outputs": [],
   "source": [
    "import numpy as np"
   ]
  },
  {
   "cell_type": "code",
   "execution_count": 95,
   "metadata": {},
   "outputs": [],
   "source": [
    "# dynamic programming? avoid brute force\n",
    "def monotonic_digit_sequence(l,strict):\n",
    "    \"\"\"\n",
    "    Build a dynamic programming table that gives the number of \n",
    "    nondecreasing digit sequences of up to length l.\n",
    "    The output will be an array of shape (10,l), with the (i,j)\n",
    "    entry gives the number of length-j nondecreasing digit sequences\n",
    "    whose first digit is i. This array can be populated efficiently\n",
    "    according to the formula:\n",
    "        (i,j) = \\sum_{i'\\geq i}(i',j-1)\n",
    "        (i,1) = 1\n",
    "    If strict=True, instead calculate the number of increasing digit \n",
    "    sequences. The formula is similar, except sum over i'>i.\n",
    "    \"\"\"\n",
    "    tab = np.zeros((10,l)).astype(int)\n",
    "    tab[:,0] = 1\n",
    "    for j in range(1,l):\n",
    "        for i in range(10):\n",
    "            if strict:\n",
    "                tab[i,j] = tab[i+1:,j-1].sum()\n",
    "            else:\n",
    "                tab[i,j] = tab[i:,j-1].sum()\n",
    "    return tab\n",
    "\n",
    "def apply_lower_bound(bound,strict):\n",
    "    \"\"\"\n",
    "    Find count of monotonic digit sequences above the given lower bound.\n",
    "    \"\"\"\n",
    "    # convert int into list of digits\n",
    "    bound_digits = [int(d) for d in str(bound)] \n",
    "    l = len(bound_digits)\n",
    "    \n",
    "    # create DP table for counts\n",
    "    tab = monotonic_digit_sequence(l,strict) \n",
    "    \n",
    "    # start with total number of allowable digit seqs of length l\n",
    "    tot = tab[:,l-1].sum() \n",
    "\n",
    "    # take away digit seqs of length l that start too low\n",
    "    tot -= tab[:bound_digits[0],l-1].sum() \n",
    "    \n",
    "    # go through other digits, subtracting seqs whose initial digit is too low\n",
    "    for j in range(l-1): \n",
    "        if strict:\n",
    "            lower_digit = bound_digits[j]+1\n",
    "        else:\n",
    "            lower_digit = bound_digits[j]\n",
    "        if bound_digits[j+1] - lower_digit < 0:\n",
    "            return tot\n",
    "        else:\n",
    "            tot -= tab[lower_digit:bound_digits[j+1],l-j-2].sum()\n",
    "    return tot\n",
    "\n",
    "# less efficient brute-force method\n",
    "def check_integer(q):\n",
    "    digits = [int(d) for d in str(q)]\n",
    "    repeat=False\n",
    "    for i in range(len(digits)-1):\n",
    "        if digits[i+1] < digits[i]:\n",
    "            return False\n",
    "        if digits[i+1]==digits[i]:\n",
    "            repeat=True\n",
    "    return repeat\n",
    "def brute_force(lb,ub):\n",
    "    tot = 0\n",
    "    for i in range(ub-lb):\n",
    "        q = lb + i\n",
    "        if check_integer(q):\n",
    "            tot += 1\n",
    "    return tot"
   ]
  },
  {
   "cell_type": "code",
   "execution_count": 102,
   "metadata": {},
   "outputs": [
    {
     "name": "stdout",
     "output_type": "stream",
     "text": [
      "Both methods agree: True\n",
      "Part 1 answer: 530\n"
     ]
    }
   ],
   "source": [
    "# part 1\n",
    "lb = 357253 \n",
    "ub = 892942\n",
    "\n",
    "# efficient\n",
    "t1 = (apply_lower_bound(lb,strict=False) - apply_lower_bound(lb,strict=True))\n",
    "t2 = (apply_lower_bound(ub,strict=False) - apply_lower_bound(ub,strict=True))\n",
    "a1 = t1-t2\n",
    "\n",
    "# brute force\n",
    "a2 = brute_force(lb,ub)\n",
    "\n",
    "print(\"Both methods agree: {}\".format(a1==a2))\n",
    "print(\"Part 1 answer: {}\".format(a1))"
   ]
  },
  {
   "cell_type": "code",
   "execution_count": 110,
   "metadata": {},
   "outputs": [
    {
     "name": "stdout",
     "output_type": "stream",
     "text": [
      "Part 2 answer: 324\n"
     ]
    }
   ],
   "source": [
    "# part 2\n",
    "\n",
    "# brute force for part 2\n",
    "def check_integer2(q):\n",
    "    digits = [int(d) for d in str(q)] + [-1] # add virtual last digit\n",
    "    repeat=False\n",
    "    for i in range(len(digits)-2):\n",
    "        if digits[i+1] < digits[i]:\n",
    "            return False\n",
    "        if digits[i+1]==digits[i] and digits[i+2]!=digits[i] and digits[i-1]!=digits[i]:\n",
    "            repeat=True\n",
    "    return repeat\n",
    "def brute_force2(lb,ub):\n",
    "    tot = 0\n",
    "    for i in range(ub-lb):\n",
    "        q = lb + i\n",
    "        if check_integer2(q):\n",
    "            tot += 1\n",
    "    return tot\n",
    "\n",
    "print(\"Part 2 answer: {}\".format(brute_force2(lb,ub)))"
   ]
  }
 ],
 "metadata": {
  "kernelspec": {
   "display_name": "Python 3",
   "language": "python",
   "name": "python3"
  },
  "language_info": {
   "codemirror_mode": {
    "name": "ipython",
    "version": 3
   },
   "file_extension": ".py",
   "mimetype": "text/x-python",
   "name": "python",
   "nbconvert_exporter": "python",
   "pygments_lexer": "ipython3",
   "version": "3.6.8"
  }
 },
 "nbformat": 4,
 "nbformat_minor": 2
}
