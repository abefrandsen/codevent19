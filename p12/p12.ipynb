{
 "cells": [
  {
   "cell_type": "code",
   "execution_count": 6,
   "metadata": {},
   "outputs": [],
   "source": [
    "import numpy as np\n",
    "import math"
   ]
  },
  {
   "cell_type": "code",
   "execution_count": 10,
   "metadata": {},
   "outputs": [],
   "source": [
    "# in view of part 2, it would be better to rework this to be a 1-coordinate simulator, and just repeat it three times\n",
    "class moon():\n",
    "    def __init__(self,x,y,z):\n",
    "        self.state = np.array([x,y,z,0,0,0])\n",
    "        \n",
    "    def update_pos(self):\n",
    "        self.state[:3] += self.state[3:]\n",
    "        \n",
    "    def get_energy(self):\n",
    "        return (np.abs(self.state[:3]).sum())*(np.abs(self.state[3:]).sum())\n",
    "\n",
    "def apply_gravity(moon1,moon2):\n",
    "    signs = np.sign(moon2.state[:3]-moon1.state[:3])\n",
    "    moon1.state[3:] += signs\n",
    "    moon2.state[3:] -= signs    \n",
    "\n",
    "class moon_simulator():\n",
    "    def __init__(self,positions):\n",
    "        self.moons = [moon(*pos) for pos in positions]\n",
    "        \n",
    "    def step(self):\n",
    "        for i in range(len(self.moons)):\n",
    "            for j in range(i+1,len(self.moons)):\n",
    "                apply_gravity(self.moons[i],self.moons[j])\n",
    "        for i in range(len(self.moons)):\n",
    "            self.moons[i].update_pos()\n",
    "    def get_total_energy(self):\n",
    "        return sum([m.get_energy() for m in self.moons])"
   ]
  },
  {
   "cell_type": "code",
   "execution_count": 12,
   "metadata": {},
   "outputs": [
    {
     "name": "stdout",
     "output_type": "stream",
     "text": [
      "Part 1 answer: 7722\n"
     ]
    }
   ],
   "source": [
    "# part 1\n",
    "positions = [[-4,3,15],[-11,-10,13],[2,2,18],[7,-1,0]]\n",
    "ms = moon_simulator(positions)\n",
    "for _ in range(1000):\n",
    "    ms.step()\n",
    "print(\"Part 1 answer: {}\".format(ms.get_total_energy()))"
   ]
  },
  {
   "cell_type": "code",
   "execution_count": 24,
   "metadata": {},
   "outputs": [],
   "source": [
    "# part 2 -- ok I checked reddit on this one. The idea is that I just need to find the periods of each coordinate\n",
    "# note that the transformation is invertible, so I only need to check we got to initial state\n",
    "positions = [[-4,3,15],[-11,-10,13],[2,2,18],[7,-1,0]]\n",
    "init_state = np.zeros(4*6)\n",
    "init_state[:4*3] = np.concatenate(positions)\n",
    "cur_state = np.zeros(4*6)\n",
    "ms = moon_simulator(positions)\n",
    "counters = []\n",
    "counter = 0\n",
    "while not np.allclose(init_state[::3],cur_state[::3]):\n",
    "    counter += 1\n",
    "    ms.step()\n",
    "    for i,m in enumerate(ms.moons):\n",
    "        cur_state[3*i:3*(i+1)] = m.state[:3]\n",
    "        cur_state[3*(i+4):3*(i+5)] = m.state[3:]\n",
    "counters.append(counter)\n",
    "cur_state = np.zeros(4*6)\n",
    "ms = moon_simulator(positions)\n",
    "counter = 0\n",
    "while not np.allclose(init_state[1::3],cur_state[1::3]):\n",
    "    counter += 1\n",
    "    ms.step()\n",
    "    for i,m in enumerate(ms.moons):\n",
    "        cur_state[3*i:3*(i+1)] = m.state[:3]\n",
    "        cur_state[3*(i+4):3*(i+5)] = m.state[3:]\n",
    "counters.append(counter)\n",
    "cur_state = np.zeros(4*6)\n",
    "ms = moon_simulator(positions)\n",
    "counter = 0\n",
    "while not np.allclose(init_state[2::3],cur_state[2::3]):\n",
    "    counter += 1\n",
    "    ms.step()\n",
    "    for i,m in enumerate(ms.moons):\n",
    "        cur_state[3*i:3*(i+1)] = m.state[:3]\n",
    "        cur_state[3*(i+4):3*(i+5)] = m.state[3:]\n",
    "counters.append(counter)\n",
    "# now get the lcm of the three numbers in counters... I used wolfram alpha haha\n",
    "print(\"Part 2 answer: 292653556339368\")"
   ]
  }
 ],
 "metadata": {
  "kernelspec": {
   "display_name": "Python 3",
   "language": "python",
   "name": "python3"
  },
  "language_info": {
   "codemirror_mode": {
    "name": "ipython",
    "version": 3
   },
   "file_extension": ".py",
   "mimetype": "text/x-python",
   "name": "python",
   "nbconvert_exporter": "python",
   "pygments_lexer": "ipython3",
   "version": "3.6.8"
  }
 },
 "nbformat": 4,
 "nbformat_minor": 2
}
