{
 "cells": [
  {
   "cell_type": "code",
   "execution_count": 99,
   "metadata": {},
   "outputs": [],
   "source": [
    "import numpy as np\n",
    "import math"
   ]
  },
  {
   "cell_type": "code",
   "execution_count": 88,
   "metadata": {},
   "outputs": [
    {
     "name": "stdout",
     "output_type": "stream",
     "text": [
      "Part 1 answer: 1967319\n"
     ]
    }
   ],
   "source": [
    "# load in the data\n",
    "reactions = {}\n",
    "with open(\"p14_input.txt\",\"r\") as f:\n",
    "    for line in f:\n",
    "        pre, post = line.strip().split(\"=>\")\n",
    "        post_quant, post_chem = post.strip().split(\" \")\n",
    "        reactions[post_chem] = [[(int(v.strip().split(\" \")[0]), v.strip().split(\" \")[1]) \n",
    "                                 for v in pre.split(\",\")],\n",
    "                                int(post_quant),0]\n",
    "reactions[\"ORE\"] = [[],0,0]\n",
    "\n",
    "# do dfs to get a topological sort of the chemicals\n",
    "def dfs(chem,reactions,visited):\n",
    "    if reactions[chem][2] == 1: # already visited\n",
    "        return\n",
    "    for chem_dep in reactions[chem][0]:\n",
    "        dfs(chem_dep[1],reactions,visited)\n",
    "    reactions[chem][2] = 1\n",
    "    visited.append(chem)\n",
    "    return visited\n",
    "\n",
    "chem_sort = dfs(\"FUEL\",reactions,[])[::-1]\n",
    "chem_to_ind = {chem:i for i,chem in enumerate(chem_sort)}\n",
    "\n",
    "# now in the sort order, calculate iteratively how much of each chemical is needed\n",
    "chem_requirements = np.zeros(len(chem_sort),dtype=np.int)\n",
    "chem_requirements[0] = 1 # I just need one FUEL\n",
    "for chem in chem_sort[:-1]:\n",
    "    n_needed = chem_requirements[chem_to_ind[chem]]\n",
    "    k = reactions[chem][1]\n",
    "    n_chunks = np.ceil(n_needed/k).astype(int)\n",
    "    for chem_dep in reactions[chem][0]:\n",
    "        chem_requirements[chem_to_ind[chem_dep[1]]] += n_chunks*chem_dep[0]\n",
    "print(\"Part 1 answer: {}\".format(chem_requirements[-1]))"
   ]
  },
  {
   "cell_type": "code",
   "execution_count": 116,
   "metadata": {},
   "outputs": [
    {
     "name": "stdout",
     "output_type": "stream",
     "text": [
      "Part 2 answer: 1122036\n"
     ]
    }
   ],
   "source": [
    "# don't use numpy-based methods, no support for large integers\n",
    "# first do exponential search to find an upper bound\n",
    "ore_needed = 0\n",
    "fuel_produced = 1\n",
    "while ore_needed <= 1e12:\n",
    "    chem_requirements = len(chem_sort)*[0]\n",
    "    chem_requirements[0] = fuel_produced # fuel needed\n",
    "    for chem in chem_sort[:-1]:\n",
    "        n_needed = chem_requirements[chem_to_ind[chem]]\n",
    "        k = reactions[chem][1]\n",
    "        n_chunks = math.ceil(n_needed/k)\n",
    "        for chem_dep in reactions[chem][0]:\n",
    "            chem_requirements[chem_to_ind[chem_dep[1]]] += n_chunks*chem_dep[0]\n",
    "    ore_needed = chem_requirements[-1]\n",
    "    fuel_produced *= 2\n",
    "# now do a linear search starting from half the upper bound\n",
    "ore_needed = 0\n",
    "fuel_produced /= 4\n",
    "while ore_needed <= 1e12:\n",
    "    chem_requirements = len(chem_sort)*[0]\n",
    "    chem_requirements[0] = fuel_produced # fuel needed\n",
    "    for chem in chem_sort[:-1]:\n",
    "        n_needed = chem_requirements[chem_to_ind[chem]]\n",
    "        k = reactions[chem][1]\n",
    "        n_chunks = math.ceil(n_needed/k)\n",
    "        for chem_dep in reactions[chem][0]:\n",
    "            chem_requirements[chem_to_ind[chem_dep[1]]] += n_chunks*chem_dep[0]\n",
    "    ore_needed = chem_requirements[-1]\n",
    "    fuel_produced += 1\n",
    "print(\"Part 2 answer: {}\".format(int(fuel_produced-2)))"
   ]
  }
 ],
 "metadata": {
  "kernelspec": {
   "display_name": "Python 3",
   "language": "python",
   "name": "python3"
  },
  "language_info": {
   "codemirror_mode": {
    "name": "ipython",
    "version": 3
   },
   "file_extension": ".py",
   "mimetype": "text/x-python",
   "name": "python",
   "nbconvert_exporter": "python",
   "pygments_lexer": "ipython3",
   "version": "3.6.8"
  }
 },
 "nbformat": 4,
 "nbformat_minor": 2
}
