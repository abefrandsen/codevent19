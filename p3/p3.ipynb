{
 "cells": [
  {
   "cell_type": "code",
   "execution_count": 59,
   "metadata": {},
   "outputs": [
    {
     "name": "stdout",
     "output_type": "stream",
     "text": [
      "Part 1: 217\n",
      "Part 2: 3454\n"
     ]
    }
   ],
   "source": [
    "import numpy as np\n",
    "\n",
    "# let's go for a naive, quadratic-time solution\n",
    "# could speed up by using interval tree perhaps\n",
    "def process_wire(wire):\n",
    "    \"\"\"\n",
    "    Process the input wire into two data structures: ordered list of\n",
    "    vertical segments and ordered list of horizontal segments.\n",
    "    \"\"\"\n",
    "    horz = []\n",
    "    vert = []\n",
    "    x_pos = 0\n",
    "    y_pos = 0\n",
    "    time = 0\n",
    "    for seg in wire.split(\",\"):\n",
    "        direction = seg[0]\n",
    "        offset = int(seg[1:])\n",
    "        \n",
    "        if direction == \"R\":\n",
    "            horz.append(([x_pos,x_pos+offset],y_pos, 0, time))\n",
    "            x_pos += offset\n",
    "        if direction == \"L\":\n",
    "            horz.append(([x_pos-offset,x_pos],y_pos, 1, time))\n",
    "            x_pos -= offset\n",
    "        if direction == \"U\":\n",
    "            vert.append(([y_pos,y_pos+offset],x_pos, 0, time))\n",
    "            y_pos += offset\n",
    "        if direction == \"D\":\n",
    "            vert.append(([y_pos-offset,y_pos],x_pos, 1, time))\n",
    "            y_pos -= offset\n",
    "        time += offset\n",
    "    return horz, vert\n",
    "\n",
    "def get_smallest_intersection(seg1, seg2):\n",
    "    \"\"\"\n",
    "    Return the point of intersection between the two segments with smallest absolute value.\n",
    "    If no intersection, return infinity.\n",
    "    \"\"\"\n",
    "    if (seg1[0] > seg2[1]) or (seg2[0] > seg1[1]):\n",
    "        return np.inf\n",
    "    endpoints = sorted([seg1[0], seg1[1], seg2[0], seg2[1]])\n",
    "    return min(abs(endpoints[1]), abs(endpoints[2]))\n",
    "\n",
    "def dist_query(segs, q):\n",
    "    best_dist = np.inf\n",
    "    best_time = np.inf\n",
    "    for seg1 in segs:\n",
    "        # assum no overlaps in same direction\n",
    "        # check if it intersects any of the orthogonal segs in other wire\n",
    "        for seg2 in q:\n",
    "            if (seg1[1] >= seg2[0][0]) and (seg1[1] <= seg2[0][1]) and (seg2[1] >= seg1[0][0]) and (seg2[1] <= seg1[0][1]):\n",
    "                dist = abs(seg1[1]) + abs(seg2[1])\n",
    "                time = seg1[-1] + seg2[-1] + abs(seg1[1]-seg2[0][seg2[2]]) + abs(seg2[1]-seg1[0][seg1[2]])\n",
    "                if dist > 0:\n",
    "                    best_dist = min(best_dist, dist)\n",
    "                    best_time = min(best_time, time)\n",
    "    return best_dist, best_time\n",
    "\n",
    "with open(\"p3_input.txt\",\"r\") as f:\n",
    "    hA, vA = process_wire(f.readline())\n",
    "    hB, vB = process_wire(f.readline())\n",
    "    \n",
    "d1, t1 = dist_query(hA,vB)\n",
    "d2, t2 = dist_query(vA,hB)\n",
    "\n",
    "print(\"Part 1: {}\".format(min(d1,d2)))\n",
    "print(\"Part 2: {}\".format(min(t1,t2)))"
   ]
  }
 ],
 "metadata": {
  "kernelspec": {
   "display_name": "Python 3",
   "language": "python",
   "name": "python3"
  },
  "language_info": {
   "codemirror_mode": {
    "name": "ipython",
    "version": 3
   },
   "file_extension": ".py",
   "mimetype": "text/x-python",
   "name": "python",
   "nbconvert_exporter": "python",
   "pygments_lexer": "ipython3",
   "version": "3.6.8"
  }
 },
 "nbformat": 4,
 "nbformat_minor": 2
}
